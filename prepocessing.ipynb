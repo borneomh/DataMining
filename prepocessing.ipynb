{
  "nbformat": 4,
  "nbformat_minor": 0,
  "metadata": {
    "colab": {
      "name": "prepocessing.ipynb",
      "provenance": [],
      "collapsed_sections": [],
      "toc_visible": true,
      "authorship_tag": "ABX9TyPV+iJuX1Uyk00bo8vC0h+t",
      "include_colab_link": true
    },
    "kernelspec": {
      "name": "python3",
      "display_name": "Python 3"
    }
  },
  "cells": [
    {
      "cell_type": "markdown",
      "metadata": {
        "id": "view-in-github",
        "colab_type": "text"
      },
      "source": [
        "<a href=\"https://colab.research.google.com/github/borneomh/DataMining/blob/main/prepocessing.ipynb\" target=\"_parent\"><img src=\"https://colab.research.google.com/assets/colab-badge.svg\" alt=\"Open In Colab\"/></a>"
      ]
    },
    {
      "cell_type": "code",
      "metadata": {
        "id": "fyqthi-p50Ri"
      },
      "source": [
        "import numpy as np\n",
        "import matplotlib.pyplot as plt\n",
        "import pandas as pd\n"
      ],
      "execution_count": 1,
      "outputs": []
    },
    {
      "cell_type": "markdown",
      "metadata": {
        "id": "PsLbHSgN8xWT"
      },
      "source": [
        "Library Numpy => Olah numerik di pytoh\n",
        "Library"
      ]
    },
    {
      "cell_type": "code",
      "metadata": {
        "id": "WjpOitXe8_eF"
      },
      "source": [
        "dataset = pd.read_csv('Data.csv')\n",
        "x = dataset.iloc[:, :-1].values\n",
        "y = dataset.iloc[:, -1].values"
      ],
      "execution_count": 2,
      "outputs": []
    },
    {
      "cell_type": "code",
      "metadata": {
        "colab": {
          "base_uri": "https://localhost:8080/"
        },
        "id": "JaQKju9-93Nz",
        "outputId": "7da7d946-53ab-42e4-a629-2e13916e9fb6"
      },
      "source": [
        "print(x)"
      ],
      "execution_count": 3,
      "outputs": [
        {
          "output_type": "stream",
          "text": [
            "[['England' 41.0 73000.0]\n",
            " ['Spain' 28.0 49000.0]\n",
            " ['Germany' 34.0 44000.0]\n",
            " ['Spain' 39.0 62000.0]\n",
            " ['Germany' 40.0 nan]\n",
            " ['England' 35.0 58000.0]\n",
            " ['Spain' nan 53000.0]\n",
            " ['England' 48.0 79000.0]\n",
            " ['Germany' 50.0 83000.0]\n",
            " ['England' 37.0 67000.0]\n",
            " ['Germany' nan 64500.0]\n",
            " ['Spain' 43.0 nan]\n",
            " ['Germany' 41.0 nan]\n",
            " ['Spain' 44.0 58000.0]\n",
            " ['England' nan 50000.0]]\n"
          ],
          "name": "stdout"
        }
      ]
    },
    {
      "cell_type": "code",
      "metadata": {
        "colab": {
          "base_uri": "https://localhost:8080/"
        },
        "id": "sIqUavKjADn7",
        "outputId": "29d9f7cc-cd16-4963-d3db-51ca8e8fda17"
      },
      "source": [
        "print(y)"
      ],
      "execution_count": 4,
      "outputs": [
        {
          "output_type": "stream",
          "text": [
            "['No' 'Yes' 'No' 'No' 'Yes' 'Yes' 'No' 'Yes' 'No' 'Yes' 'Yes' 'No' 'Yes'\n",
            " 'No' 'No']\n"
          ],
          "name": "stdout"
        }
      ]
    },
    {
      "cell_type": "code",
      "metadata": {
        "id": "NDwcFhxlAN2c"
      },
      "source": [
        "from sklearn.impute import SimpleImputer\n",
        "imputer = SimpleImputer(missing_values=np.nan, strategy='mean')\n",
        "imputer.fit(x[:, 1:3])\n",
        "x[:, 1:3] = imputer.transform(x[:, 1:3])"
      ],
      "execution_count": 5,
      "outputs": []
    },
    {
      "cell_type": "code",
      "metadata": {
        "colab": {
          "base_uri": "https://localhost:8080/"
        },
        "id": "C9OpHD7TBL4f",
        "outputId": "3e94e056-abfd-4e57-edee-b7b32d49515a"
      },
      "source": [
        "print(x)"
      ],
      "execution_count": 6,
      "outputs": [
        {
          "output_type": "stream",
          "text": [
            "[['England' 41.0 73000.0]\n",
            " ['Spain' 28.0 49000.0]\n",
            " ['Germany' 34.0 44000.0]\n",
            " ['Spain' 39.0 62000.0]\n",
            " ['Germany' 40.0 61708.333333333336]\n",
            " ['England' 35.0 58000.0]\n",
            " ['Spain' 40.0 53000.0]\n",
            " ['England' 48.0 79000.0]\n",
            " ['Germany' 50.0 83000.0]\n",
            " ['England' 37.0 67000.0]\n",
            " ['Germany' 40.0 64500.0]\n",
            " ['Spain' 43.0 61708.333333333336]\n",
            " ['Germany' 41.0 61708.333333333336]\n",
            " ['Spain' 44.0 58000.0]\n",
            " ['England' 40.0 50000.0]]\n"
          ],
          "name": "stdout"
        }
      ]
    },
    {
      "cell_type": "code",
      "metadata": {
        "id": "KINlgF_WB6Vv"
      },
      "source": [
        "from sklearn.compose import ColumnTransformer\n",
        "from sklearn.preprocessing import OneHotEncoder\n",
        "ct = ColumnTransformer(transformers=[('encoder', OneHotEncoder(),[0])], remainder='passthrough')\n",
        "x = np.array (ct.fit_transform(x))"
      ],
      "execution_count": 7,
      "outputs": []
    },
    {
      "cell_type": "code",
      "metadata": {
        "colab": {
          "base_uri": "https://localhost:8080/"
        },
        "id": "mNfs0dWpDT6F",
        "outputId": "eda674d2-0805-4573-c697-ba22d7d0b751"
      },
      "source": [
        "print(x)"
      ],
      "execution_count": 8,
      "outputs": [
        {
          "output_type": "stream",
          "text": [
            "[[1.0 0.0 0.0 41.0 73000.0]\n",
            " [0.0 0.0 1.0 28.0 49000.0]\n",
            " [0.0 1.0 0.0 34.0 44000.0]\n",
            " [0.0 0.0 1.0 39.0 62000.0]\n",
            " [0.0 1.0 0.0 40.0 61708.333333333336]\n",
            " [1.0 0.0 0.0 35.0 58000.0]\n",
            " [0.0 0.0 1.0 40.0 53000.0]\n",
            " [1.0 0.0 0.0 48.0 79000.0]\n",
            " [0.0 1.0 0.0 50.0 83000.0]\n",
            " [1.0 0.0 0.0 37.0 67000.0]\n",
            " [0.0 1.0 0.0 40.0 64500.0]\n",
            " [0.0 0.0 1.0 43.0 61708.333333333336]\n",
            " [0.0 1.0 0.0 41.0 61708.333333333336]\n",
            " [0.0 0.0 1.0 44.0 58000.0]\n",
            " [1.0 0.0 0.0 40.0 50000.0]]\n"
          ],
          "name": "stdout"
        }
      ]
    },
    {
      "cell_type": "code",
      "metadata": {
        "id": "4e0gORDXEz4y"
      },
      "source": [
        "from sklearn.preprocessing import LabelEncoder\n",
        "le = LabelEncoder()\n",
        "y = le.fit_transform(y)"
      ],
      "execution_count": 9,
      "outputs": []
    },
    {
      "cell_type": "code",
      "metadata": {
        "colab": {
          "base_uri": "https://localhost:8080/"
        },
        "id": "As8K1YPqFJsd",
        "outputId": "eaa240a3-da33-4c59-b8ce-a8b6c7880f65"
      },
      "source": [
        "print(y)"
      ],
      "execution_count": 10,
      "outputs": [
        {
          "output_type": "stream",
          "text": [
            "[0 1 0 0 1 1 0 1 0 1 1 0 1 0 0]\n"
          ],
          "name": "stdout"
        }
      ]
    },
    {
      "cell_type": "code",
      "metadata": {
        "id": "qBhkve2GFRsb"
      },
      "source": [
        "from sklearn.model_selection import train_test_split\n",
        "x_train, x_test, y_train, y_test = train_test_split(x,y,test_size=0.2,random_state=1)"
      ],
      "execution_count": 11,
      "outputs": []
    },
    {
      "cell_type": "code",
      "metadata": {
        "colab": {
          "base_uri": "https://localhost:8080/"
        },
        "id": "G4PhdEWeF9dW",
        "outputId": "9faccee8-8522-44e3-b308-47ba9526ddeb"
      },
      "source": [
        "print(x_train)"
      ],
      "execution_count": 12,
      "outputs": [
        {
          "output_type": "stream",
          "text": [
            "[[0.0 1.0 0.0 34.0 44000.0]\n",
            " [0.0 1.0 0.0 40.0 64500.0]\n",
            " [0.0 1.0 0.0 40.0 61708.333333333336]\n",
            " [0.0 0.0 1.0 28.0 49000.0]\n",
            " [0.0 0.0 1.0 44.0 58000.0]\n",
            " [1.0 0.0 0.0 41.0 73000.0]\n",
            " [1.0 0.0 0.0 40.0 50000.0]\n",
            " [1.0 0.0 0.0 37.0 67000.0]\n",
            " [0.0 1.0 0.0 50.0 83000.0]\n",
            " [0.0 1.0 0.0 41.0 61708.333333333336]\n",
            " [0.0 0.0 1.0 43.0 61708.333333333336]\n",
            " [1.0 0.0 0.0 35.0 58000.0]]\n"
          ],
          "name": "stdout"
        }
      ]
    },
    {
      "cell_type": "code",
      "metadata": {
        "colab": {
          "base_uri": "https://localhost:8080/"
        },
        "id": "x4rjmBiTGCy0",
        "outputId": "641b6b8d-f2bf-4d6e-861f-e575e29716e0"
      },
      "source": [
        "print(x_test)"
      ],
      "execution_count": 13,
      "outputs": [
        {
          "output_type": "stream",
          "text": [
            "[[0.0 0.0 1.0 39.0 62000.0]\n",
            " [1.0 0.0 0.0 48.0 79000.0]\n",
            " [0.0 0.0 1.0 40.0 53000.0]]\n"
          ],
          "name": "stdout"
        }
      ]
    },
    {
      "cell_type": "code",
      "metadata": {
        "colab": {
          "base_uri": "https://localhost:8080/"
        },
        "id": "eYort1K8GItd",
        "outputId": "a8e09d1d-906e-4171-d237-2f8ac9193999"
      },
      "source": [
        "print(y_train)"
      ],
      "execution_count": 14,
      "outputs": [
        {
          "output_type": "stream",
          "text": [
            "[0 1 1 1 0 0 0 1 0 1 0 1]\n"
          ],
          "name": "stdout"
        }
      ]
    },
    {
      "cell_type": "code",
      "metadata": {
        "colab": {
          "base_uri": "https://localhost:8080/"
        },
        "id": "-a0nHDOdGMRY",
        "outputId": "b6c02de8-2c6d-467a-9935-94d2e522dda8"
      },
      "source": [
        "print(y_test)"
      ],
      "execution_count": 15,
      "outputs": [
        {
          "output_type": "stream",
          "text": [
            "[0 1 0]\n"
          ],
          "name": "stdout"
        }
      ]
    },
    {
      "cell_type": "code",
      "metadata": {
        "id": "qT4HZznqIXX-"
      },
      "source": [
        "from sklearn.preprocessing import StandardScaler\n",
        "sc=StandardScaler()\n",
        "x_train[:, 3:] = sc.fit_transform(x_train[:, 3:])\n",
        "x_test[:, 3:] = sc.transform(x_test[:, 3:])"
      ],
      "execution_count": 16,
      "outputs": []
    },
    {
      "cell_type": "code",
      "metadata": {
        "colab": {
          "base_uri": "https://localhost:8080/"
        },
        "id": "1sxDZdb_cQld",
        "outputId": "3e98d373-c562-45c9-c37f-e25bdb2fea5d"
      },
      "source": [
        "print(x_train)"
      ],
      "execution_count": 17,
      "outputs": [
        {
          "output_type": "stream",
          "text": [
            "[[0.0 1.0 0.0 -1.0222602785838923 -1.6627617779540311]\n",
            " [0.0 1.0 0.0 0.11008956846288122 0.34602593169209034]\n",
            " [0.0 1.0 0.0 0.11008956846288122 0.07247150781751711]\n",
            " [0.0 0.0 1.0 -2.154610125630666 -1.1728135560891235]\n",
            " [0.0 0.0 1.0 0.8649894664940636 -0.29090675673228966]\n",
            " [1.0 0.0 0.0 0.29881454297067683 1.1789379088624334]\n",
            " [1.0 0.0 0.0 0.11008956846288122 -1.0748239117161418]\n",
            " [1.0 0.0 0.0 -0.45608535506050557 0.5910000426245442]\n",
            " [0.0 1.0 0.0 1.9973393135408373 2.158834352592249]\n",
            " [0.0 1.0 0.0 0.29881454297067683 0.07247150781751711]\n",
            " [0.0 0.0 1.0 0.676264491986268 0.07247150781751711]\n",
            " [1.0 0.0 0.0 -0.8335353040760968 -0.29090675673228966]]\n"
          ],
          "name": "stdout"
        }
      ]
    },
    {
      "cell_type": "code",
      "metadata": {
        "colab": {
          "base_uri": "https://localhost:8080/"
        },
        "id": "kRNwucvncITR",
        "outputId": "9b0330d0-c535-458b-d003-5214142f1091"
      },
      "source": [
        "print(x_test)"
      ],
      "execution_count": 18,
      "outputs": [
        {
          "output_type": "stream",
          "text": [
            "[[0.0 0.0 1.0 -0.07863540604491438 0.1010518207596365]\n",
            " [1.0 0.0 0.0 1.619889364525246 1.7668757751003226]\n",
            " [0.0 0.0 1.0 0.11008956846288122 -0.7808549785971973]]\n"
          ],
          "name": "stdout"
        }
      ]
    }
  ]
}